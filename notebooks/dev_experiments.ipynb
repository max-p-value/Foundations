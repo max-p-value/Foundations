{
 "cells": [
  {
   "cell_type": "code",
   "execution_count": null,
   "id": "0",
   "metadata": {},
   "outputs": [],
   "source": [
    "import sys\n",
    "import os\n",
    "sys.path.append(os.path.abspath(\"../code\"))\n",
    "\n",
    "import importlib\n",
    "import compartment\n",
    "import signaling_pathway\n",
    "import protein_turnover  # import the module, not the class\n",
    "import clock\n",
    "importlib.reload(protein_turnover)  # reload the module\n",
    "from protein_turnover import ProteinTurnover  # re-import the class\n",
    "\n",
    "import matplotlib.pyplot as plt\n"
   ]
  },
  {
   "cell_type": "code",
   "execution_count": null,
   "id": "1",
   "metadata": {},
   "outputs": [],
   "source": [
    "sim = ProteinTurnover(\n",
    "    transcription_rate=1.0,\n",
    "    translation_rate=2.0,\n",
    "    degradation_rate=0.1,\n",
    "    mRNA_degradation_rate=0.05,\n",
    "    dt=0.1\n",
    ")\n",
    "\n",
    "sim.run(steps=1000)"
   ]
  },
  {
   "cell_type": "code",
   "execution_count": null,
   "id": "2",
   "metadata": {},
   "outputs": [],
   "source": [
    "times, mrna_vals, protein_vals = zip(*sim.history)\n",
    "plt.plot(times, mrna_vals, label='mRNA')\n",
    "plt.plot(times, protein_vals, label='Protein')\n",
    "plt.xlabel('Time')\n",
    "plt.ylabel('Concentration')\n",
    "plt.legend()\n",
    "plt.title('Simple Protein Turnover')\n",
    "plt.show()\n"
   ]
  },
  {
   "cell_type": "code",
   "execution_count": null,
   "id": "3",
   "metadata": {},
   "outputs": [],
   "source": [
    "cyto = compartment.Compartment(\"cyto\", volume=1.0)\n",
    "signal = signaling_pathway.SignalingPathway(ligand_onset=20.0)\n",
    "\n",
    "\n",
    "protein = protein_turnover.RegulatedProteinTurnover(\n",
    "base_transcription=0.05, \n",
    "transcription_rate=0.1, \n",
    "translation_rate=0.01, \n",
    "degradation_rate=.1,\n",
    "mRNA_degradation_rate=.1,\n",
    "compartment=cyto, \n",
    "dt=1,\n",
    "regulator=signal)\n",
    "\n",
    "sim = clock.Clock([signal, protein], dt=1.0)\n",
    "sim.run(100)\n"
   ]
  },
  {
   "cell_type": "code",
   "execution_count": null,
   "id": "4",
   "metadata": {},
   "outputs": [],
   "source": [
    "for t, mrna, protein_level in protein.history[-5:]:\n",
    "    print(f\"Time: {t}, mRNA: {mrna:.2f}, Protein: {protein_level:.2f}\")\n"
   ]
  },
  {
   "cell_type": "code",
   "execution_count": null,
   "id": "5",
   "metadata": {},
   "outputs": [],
   "source": [
    "import matplotlib.pyplot as plt\n",
    "\n",
    "# Unpack history\n",
    "times, mrnas, proteins = zip(*protein.history)\n",
    "\n",
    "# Plot\n",
    "plt.plot(times, mrnas, label=\"mRNA\")\n",
    "plt.plot(times, proteins, label=\"Protein\")\n",
    "plt.xlabel(\"Time\")\n",
    "plt.ylabel(\"Level\")\n",
    "plt.legend()\n",
    "plt.title(\"Regulated Protein Turnover\")\n",
    "plt.show()\n"
   ]
  },
  {
   "cell_type": "code",
   "execution_count": null,
   "id": "6",
   "metadata": {},
   "outputs": [],
   "source": []
  },
  {
   "cell_type": "code",
   "execution_count": null,
   "id": "7",
   "metadata": {},
   "outputs": [],
   "source": []
  },
  {
   "cell_type": "code",
   "execution_count": null,
   "id": "8",
   "metadata": {},
   "outputs": [],
   "source": []
  },
  {
   "cell_type": "code",
   "execution_count": null,
   "id": "9",
   "metadata": {},
   "outputs": [],
   "source": []
  }
 ],
 "metadata": {
  "kernelspec": {
   "display_name": "teleos",
   "language": "python",
   "name": "python3"
  },
  "language_info": {
   "codemirror_mode": {
    "name": "ipython",
    "version": 3
   },
   "file_extension": ".py",
   "mimetype": "text/x-python",
   "name": "python",
   "nbconvert_exporter": "python",
   "pygments_lexer": "ipython3",
   "version": "3.10.17"
  }
 },
 "nbformat": 4,
 "nbformat_minor": 5
}
